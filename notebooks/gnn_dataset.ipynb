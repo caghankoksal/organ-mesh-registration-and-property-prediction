{
 "cells": [
  {
   "cell_type": "code",
   "execution_count": 1,
   "metadata": {},
   "outputs": [
    {
     "name": "stderr",
     "output_type": "stream",
     "text": [
      "/u/home/koksal/.conda/envs/caghan4/lib/python3.9/site-packages/tqdm/auto.py:22: TqdmWarning: IProgress not found. Please update jupyter and ipywidgets. See https://ipywidgets.readthedocs.io/en/stable/user_install.html\n",
      "  from .autonotebook import tqdm as notebook_tqdm\n"
     ]
    }
   ],
   "source": [
    "import os\n",
    "import torch\n",
    "from torch_geometric.data import Dataset, download_url\n",
    "import os\n",
    "import pandas as pd"
   ]
  },
  {
   "cell_type": "markdown",
   "metadata": {},
   "source": [
    "- Here is some general information about the data in this folder.\n",
    "\n",
    "1.  Bridge_eids_60520_87802.csv:<br>\n",
    "\n",
    "- This file contains the bridging between the two sets of subject IDs.<br>\n",
    "- The 'old' ID can be found in the column 'eid_60520' - and the 'new' ID in column 'eid_87802'.  \n",
    "- The new ID corresponds to the folder names, the old ID to the subj_id saved in the data objects.  \n",
    "\n",
    "***\n",
    "\n",
    "2. basic_features.csv \n",
    "\n",
    "- This file contains some basic features of subjects. The columns stand for the following:\n",
    "- 21003-2.0: age\n",
    "- 31-0.0: sex (0: female, 1: male)\n",
    "- 21001-2.0: BMI\n",
    "- 21002-2.0: weight\n",
    "- 50-2.0: standing height"
   ]
  },
  {
   "cell_type": "markdown",
   "metadata": {},
   "source": [
    "# CREATE TRAIN VAL TEST SPLITS"
   ]
  },
  {
   "cell_type": "code",
   "execution_count": 53,
   "metadata": {},
   "outputs": [],
   "source": [
    "from sklearn.model_selection import train_test_split\n",
    "import os \n",
    "organ_mesh_ids = os.listdir('/vol/chameleon/projects/mesh_gnn/organ_meshes')\n"
   ]
  },
  {
   "cell_type": "code",
   "execution_count": 54,
   "metadata": {},
   "outputs": [
    {
     "name": "stdout",
     "output_type": "stream",
     "text": [
      "X train shape :  22786 X Val shape  4557 X Test shape 3039\n"
     ]
    }
   ],
   "source": [
    "train_ratio = 0.75\n",
    "validation_ratio = 0.15\n",
    "test_ratio = 0.10\n",
    "\n",
    "# train is now 75% of the entire data set\n",
    "# the _junk suffix means that we drop that variable completely\n",
    "x_train, x_test = train_test_split(organ_mesh_ids, test_size=1 - train_ratio)\n",
    "\n",
    "# test is now 10% of the initial data set\n",
    "# validation is now 15% of the initial data set\n",
    "x_val, x_test = train_test_split(x_test, test_size=test_ratio/(test_ratio + validation_ratio)) \n",
    "\n",
    "print('X train shape : ', len(x_train), 'X Val shape ', len(x_val), 'X Test shape', len(x_test))"
   ]
  },
  {
   "cell_type": "code",
   "execution_count": 38,
   "metadata": {},
   "outputs": [],
   "source": [
    "def write_list_file(split_list, out_path='.', mode='train'):\n",
    "    path = os.path.join(out_path, f'organs_split_{mode}.txt')\n",
    "    with open(path, 'w') as f:\n",
    "        f.write(\"\\n\".join(str(item) for item in split_list))\n"
   ]
  },
  {
   "cell_type": "code",
   "execution_count": 57,
   "metadata": {},
   "outputs": [],
   "source": [
    "write_list_file(x_train, out_path='../data', mode='train')\n",
    "write_list_file(x_val, '../data', mode='val')\n",
    "write_list_file(x_test, '../data', mode='test')"
   ]
  },
  {
   "cell_type": "code",
   "execution_count": 58,
   "metadata": {},
   "outputs": [],
   "source": [
    "import pandas as pd \n",
    "\n",
    "\n",
    "class OrganMeshDataset(Dataset):\n",
    "    def __init__(self, root, basic_feats_path, bridge_path, mode='train', organ='liver', split_path = None,\n",
    "                 num_samples = None, transform=None, pre_transform=None, pre_filter=None):\n",
    "    \n",
    "        super().__init__(root, transform, pre_transform, pre_filter)\n",
    "        assert mode in ['train', 'val', 'test']\n",
    "\n",
    "        self.root = root\n",
    "        self.organ = organ\n",
    "\n",
    "        \n",
    "        split_path = os.path.join(split_path, f'organs_split_{mode}.txt')\n",
    "        with open(split_path) as f:\n",
    "            self.organ_mesh_ids = f.readlines()\n",
    "\n",
    "        if num_samples is not None:\n",
    "            self.organ_mesh_ids = os.listdir(root)[:num_samples]    \n",
    "\n",
    "        self.basic_feats_path = basic_feats_path \n",
    "        self.bridge_path = bridge_path\n",
    "\n",
    "        self.basic_features = pd.read_csv(basic_feats_path)\n",
    "        new_names = {'21003-2.0':'age', '31-0.0':'sex', '21001-2.0':'bmi', '21002-2.0':'weight','50-2.0':'standing_weight'}\n",
    "        self.basic_features = self.basic_features.rename(index=str, columns=new_names)\n",
    "        self.bridge_organ_df = pd.read_csv(bridge_path)\n",
    "\n",
    "    def len(self):\n",
    "        return len(self.organ_mesh_ids)\n",
    "\n",
    "\n",
    "    def get(self, idx):\n",
    "        selected_patient = self.organ_mesh_ids[idx]\n",
    "        #print('Selected Patient', selected_patient)\n",
    "        data = torch.load(os.path.join(self.root, selected_patient,f'{self.organ}_mesh.pt'))\n",
    "        old_id = data['eid']\n",
    "        new_id = selected_patient\n",
    "        patient_features = self.basic_features[self.basic_features['eid'] == int(selected_patient)]\n",
    "        #print(patient_features['sex'])\n",
    "        gender_patient = patient_features['sex'].item()\n",
    "        print('Gender patient', gender_patient)\n",
    "        #Label of the data is currently gender\n",
    "        data.y = gender_patient\n",
    "        return data\n",
    "    \n"
   ]
  },
  {
   "cell_type": "code",
   "execution_count": 59,
   "metadata": {},
   "outputs": [],
   "source": [
    "root = '/vol/chameleon/projects/mesh_gnn/organ_meshes'\n",
    "basic_feat_path = '/vol/chameleon/projects/mesh_gnn/basic_features.csv'\n",
    "bridge_path = '/vol/chameleon/projects/mesh_gnn/Bridge_eids_60520_87802.csv'\n",
    "split_path = '/u/home/koksal/organ-mesh-registration-and-property-prediction/data/'\n"
   ]
  },
  {
   "cell_type": "code",
   "execution_count": 60,
   "metadata": {},
   "outputs": [],
   "source": [
    "train_dataset = OrganMeshDataset(root, basic_feat_path, bridge_path, mode='train', split_path=split_path )\n",
    "val_dataset = OrganMeshDataset(root, basic_feat_path, bridge_path, mode='val', split_path=split_path )\n",
    "test_dataset = OrganMeshDataset(root, basic_feat_path, bridge_path, mode='test', split_path=split_path )"
   ]
  },
  {
   "cell_type": "code",
   "execution_count": 61,
   "metadata": {},
   "outputs": [
    {
     "data": {
      "text/plain": [
       "OrganMeshDataset(22786)"
      ]
     },
     "execution_count": 61,
     "metadata": {},
     "output_type": "execute_result"
    }
   ],
   "source": [
    "train_dataset"
   ]
  },
  {
   "cell_type": "code",
   "execution_count": 62,
   "metadata": {},
   "outputs": [
    {
     "data": {
      "text/plain": [
       "OrganMeshDataset(4557)"
      ]
     },
     "execution_count": 62,
     "metadata": {},
     "output_type": "execute_result"
    }
   ],
   "source": [
    "val_dataset"
   ]
  },
  {
   "cell_type": "code",
   "execution_count": 63,
   "metadata": {},
   "outputs": [
    {
     "data": {
      "text/plain": [
       "OrganMeshDataset(3039)"
      ]
     },
     "execution_count": 63,
     "metadata": {},
     "output_type": "execute_result"
    }
   ],
   "source": [
    "test_dataset"
   ]
  },
  {
   "cell_type": "code",
   "execution_count": null,
   "metadata": {},
   "outputs": [],
   "source": []
  }
 ],
 "metadata": {
  "kernelspec": {
   "display_name": "Python 3.9.15 ('caghan4')",
   "language": "python",
   "name": "python3"
  },
  "language_info": {
   "codemirror_mode": {
    "name": "ipython",
    "version": 3
   },
   "file_extension": ".py",
   "mimetype": "text/x-python",
   "name": "python",
   "nbconvert_exporter": "python",
   "pygments_lexer": "ipython3",
   "version": "3.9.15"
  },
  "orig_nbformat": 4,
  "vscode": {
   "interpreter": {
    "hash": "c7396ef363109521e03a1a0d63e78822cb454baa0fd8fa9ea26684fd7d4e3122"
   }
  }
 },
 "nbformat": 4,
 "nbformat_minor": 2
}
