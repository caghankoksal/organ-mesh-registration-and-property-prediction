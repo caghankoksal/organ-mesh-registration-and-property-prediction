{
 "cells": [
  {
   "cell_type": "code",
   "execution_count": 31,
   "metadata": {},
   "outputs": [],
   "source": [
    "import sys\n",
    "import os\n",
    "import wandb\n",
    "sys.path.append('/u/home/koksal/organ-mesh-registration-and-property-prediction/')\n",
    "\n",
    "import torch\n",
    "from src.models.fsgn_model import MeshSeg\n",
    "from src.data.organs_dataset import OrganMeshDataset\n",
    "from torch_geometric.data import DataLoader\n",
    "from tqdm import tqdm\n",
    "from time import sleep\n",
    "import mlflow\n",
    "from src.models.baseline_model import GNN\n",
    "import argparse\n",
    "from sklearn.metrics import r2_score\n",
    "\n",
    "#config = Args()\n",
    "from src.models.train import build_dataset, build_network\n"
   ]
  },
  {
   "cell_type": "code",
   "execution_count": 32,
   "metadata": {},
   "outputs": [],
   "source": [
    "experiment_dir = '/u/home/koksal/organ-mesh-registration-and-property-prediction/models/summer-field-27'\n",
    "checkpoint_path ='classification_organ_left_kidney_enc_channels_512_best_testacc_0.48.pth'\n",
    "checkpoint = torch.load(os.path.join(experiment_dir, checkpoint_path))\n",
    "config_dict = checkpoint['config']"
   ]
  },
  {
   "cell_type": "code",
   "execution_count": 33,
   "metadata": {},
   "outputs": [],
   "source": [
    "class Dict2Class(object):\n",
    "    def __init__(self, my_dict):\n",
    "        for key in my_dict:\n",
    "            setattr(self, key, my_dict[key])"
   ]
  },
  {
   "cell_type": "code",
   "execution_count": 34,
   "metadata": {},
   "outputs": [],
   "source": [
    "config = Dict2Class(config_dict)"
   ]
  },
  {
   "cell_type": "code",
   "execution_count": 28,
   "metadata": {},
   "outputs": [
    {
     "name": "stdout",
     "output_type": "stream",
     "text": [
      "Left_kidney  train Dataset is created\n",
      "Left_kidney  val Dataset is created\n",
      "Left_kidney  test Dataset is created\n",
      "Baseline Model is initialized\n"
     ]
    },
    {
     "name": "stderr",
     "output_type": "stream",
     "text": [
      "/u/home/koksal/.conda/envs/caghan4/lib/python3.9/site-packages/torch_geometric/deprecation.py:12: UserWarning: 'data.DataLoader' is deprecated, use 'loader.DataLoader' instead\n",
      "  warnings.warn(out)\n"
     ]
    }
   ],
   "source": [
    "#Data Loader\n",
    "train_loader, test_loader = build_dataset(config)\n",
    "#Network\n",
    "net = build_network(config).to(config.device)"
   ]
  },
  {
   "cell_type": "code",
   "execution_count": 29,
   "metadata": {},
   "outputs": [
    {
     "data": {
      "text/plain": [
       "<All keys matched successfully>"
      ]
     },
     "execution_count": 29,
     "metadata": {},
     "output_type": "execute_result"
    }
   ],
   "source": [
    "net.load_state_dict(checkpoint['model'])\n"
   ]
  },
  {
   "cell_type": "code",
   "execution_count": 36,
   "metadata": {},
   "outputs": [
    {
     "data": {
      "text/plain": [
       "DataBatch(x=[16302, 3], edge_index=[2, 65180], y=[4], num_nodes=16302, eid=[4], batch=[16302], ptr=[5])"
      ]
     },
     "execution_count": 36,
     "metadata": {},
     "output_type": "execute_result"
    }
   ],
   "source": []
  },
  {
   "cell_type": "code",
   "execution_count": 44,
   "metadata": {},
   "outputs": [
    {
     "data": {
      "text/plain": [
       "GNN(\n",
       "  (input_encoder): Sequential(\n",
       "    (0): Linear(in_features=3, out_features=128, bias=True)\n",
       "    (1): Identity()\n",
       "  )\n",
       "  (layers): ModuleList(\n",
       "    (0): GCNConv(128, 512)\n",
       "    (1): ReLU()\n",
       "    (2): LayerNorm(512, mode=graph)\n",
       "    (3): GCNConv(512, 512)\n",
       "    (4): ReLU()\n",
       "    (5): LayerNorm(512, mode=graph)\n",
       "    (6): GCNConv(512, 512)\n",
       "    (7): ReLU()\n",
       "    (8): LayerNorm(512, mode=graph)\n",
       "  )\n",
       "  (pred_layer): Linear(512, 1, bias=True)\n",
       ")"
      ]
     },
     "execution_count": 44,
     "metadata": {},
     "output_type": "execute_result"
    }
   ],
   "source": [
    "batch = next(iter(train_loader)).cuda()\n",
    "net.cuda()"
   ]
  },
  {
   "cell_type": "code",
   "execution_count": 55,
   "metadata": {},
   "outputs": [],
   "source": [
    "net.eval()\n",
    "predictions = net(batch)"
   ]
  },
  {
   "cell_type": "code",
   "execution_count": 56,
   "metadata": {},
   "outputs": [],
   "source": [
    "from sklearn.metrics import r2_score"
   ]
  },
  {
   "cell_type": "code",
   "execution_count": 65,
   "metadata": {},
   "outputs": [
    {
     "data": {
      "text/plain": [
       "tensor(-3., device='cuda:0', grad_fn=<SqueezeBackward0>)"
      ]
     },
     "execution_count": 65,
     "metadata": {},
     "output_type": "execute_result"
    }
   ],
   "source": [
    "from torchmetrics import R2Score\n",
    "r2score = R2Score().to('cuda')\n",
    "r2score(predictions.squeeze(1), batch.y)"
   ]
  },
  {
   "cell_type": "code",
   "execution_count": 68,
   "metadata": {},
   "outputs": [
    {
     "data": {
      "text/plain": [
       "(tensor([[0.],\n",
       "         [0.],\n",
       "         [0.],\n",
       "         [0.]], device='cuda:0', grad_fn=<AddmmBackward0>),\n",
       " tensor([1, 1, 1, 0], device='cuda:0'))"
      ]
     },
     "execution_count": 68,
     "metadata": {},
     "output_type": "execute_result"
    }
   ],
   "source": [
    "predictions,batch.y"
   ]
  },
  {
   "cell_type": "code",
   "execution_count": 66,
   "metadata": {},
   "outputs": [
    {
     "data": {
      "text/plain": [
       "0.0"
      ]
     },
     "execution_count": 66,
     "metadata": {},
     "output_type": "execute_result"
    }
   ],
   "source": [
    "r2_score(predictions.cpu().detach().numpy(),batch.y.cpu())"
   ]
  },
  {
   "cell_type": "code",
   "execution_count": 48,
   "metadata": {},
   "outputs": [
    {
     "data": {
      "text/plain": [
       "torch.Size([4])"
      ]
     },
     "execution_count": 48,
     "metadata": {},
     "output_type": "execute_result"
    }
   ],
   "source": [
    "batch.y.shape"
   ]
  },
  {
   "cell_type": "code",
   "execution_count": null,
   "metadata": {},
   "outputs": [],
   "source": []
  }
 ],
 "metadata": {
  "kernelspec": {
   "display_name": "Python 3.9.15 ('caghan4')",
   "language": "python",
   "name": "python3"
  },
  "language_info": {
   "codemirror_mode": {
    "name": "ipython",
    "version": 3
   },
   "file_extension": ".py",
   "mimetype": "text/x-python",
   "name": "python",
   "nbconvert_exporter": "python",
   "pygments_lexer": "ipython3",
   "version": "3.9.15"
  },
  "orig_nbformat": 4,
  "vscode": {
   "interpreter": {
    "hash": "c7396ef363109521e03a1a0d63e78822cb454baa0fd8fa9ea26684fd7d4e3122"
   }
  }
 },
 "nbformat": 4,
 "nbformat_minor": 2
}
