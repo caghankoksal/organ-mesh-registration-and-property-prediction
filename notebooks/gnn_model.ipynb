{
 "cells": [
  {
   "cell_type": "code",
   "execution_count": 1,
   "metadata": {},
   "outputs": [
    {
     "name": "stdout",
     "output_type": "stream",
     "text": [
      "Jupyter environment detected. Enabling Open3D WebVisualizer.\n",
      "[Open3D INFO] WebRTC GUI backend enabled.\n",
      "[Open3D INFO] WebRTCWindowSystem: HTTP handshake server disabled.\n"
     ]
    }
   ],
   "source": [
    "import sys\n",
    "import os\n",
    "import wandb\n",
    "sys.path.append('/u/home/koksal/organ-mesh-registration-and-property-prediction/')\n",
    "\n",
    "import torch\n",
    "from src.models.fsgn_model import MeshSeg\n",
    "from src.data.organs_dataset import OrganMeshDataset\n",
    "from torch_geometric.data import DataLoader\n",
    "from tqdm import tqdm\n",
    "from time import sleep\n",
    "import mlflow\n",
    "from src.models.baseline_model import GNN\n",
    "import argparse\n",
    "from sklearn.metrics import r2_score\n",
    "\n",
    "#config = Args()\n",
    "from src.models.train import build_dataset, build_network\n",
    "from src.models.train import accuracy"
   ]
  },
  {
   "cell_type": "code",
   "execution_count": 2,
   "metadata": {},
   "outputs": [],
   "source": [
    "class Dict2Class(object):\n",
    "    def __init__(self, my_dict):\n",
    "        for key in my_dict:\n",
    "            setattr(self, key, my_dict[key])"
   ]
  },
  {
   "cell_type": "code",
   "execution_count": 3,
   "metadata": {},
   "outputs": [],
   "source": [
    "device='cuda:1'"
   ]
  },
  {
   "cell_type": "code",
   "execution_count": 4,
   "metadata": {},
   "outputs": [],
   "source": [
    "def return_data_model(experiment_dir, experiment_name, organ='spleen', return_dataset=True):\n",
    "\n",
    "    checkpoint = torch.load(os.path.join(experiment_dir, experiment_name))\n",
    "    config = checkpoint['config']\n",
    "    config = Dict2Class(config)\n",
    "\n",
    "    model = build_network(config).to(device)\n",
    "    model.load_state_dict(checkpoint['model'])\n",
    "\n",
    "    dataset_config_dict = {\n",
    "        \"decimation_path\":\"/data0/practical-wise2223/organ_mesh/organ_decimations_ply/\",\n",
    "        \"registeration_path\" : \"/data0/practical-wise2223/organ_mesh/gendered_organ_registrations_ply/\",\n",
    "        \"split_path\" : '/u/home/koksal/organ-mesh-registration-and-property-prediction/data/',\n",
    "        \"root\" : '/vol/chameleon/projects/mesh_gnn/organ_meshes',\n",
    "        \"basic_feat_path\" : '/vol/chameleon/projects/mesh_gnn/basic_features.csv',\n",
    "        \"bridge_path\" : '/vol/chameleon/projects/mesh_gnn/Bridge_eids_60520_87802.csv',\n",
    "        \"num_train_samples\": 3000,\n",
    "        \"num_test_samples\":300,\n",
    "        'batch_size': 2,\n",
    "        'task': 'sex_prediction',\n",
    "        'use_registered_data': False,\n",
    "        \"organ\": organ\n",
    "    }\n",
    "    data_config = Dict2Class(dataset_config_dict)\n",
    "    #Data Loader\n",
    "    train_loader, test_loader = build_dataset(data_config,return_dataset)\n",
    "    #Network\n",
    "\n",
    "    return model, test_loader\n"
   ]
  },
  {
   "cell_type": "code",
   "execution_count": 5,
   "metadata": {},
   "outputs": [
    {
     "name": "stdout",
     "output_type": "stream",
     "text": [
      "Baseline Model is initialized\n",
      "Liver  train Dataset is created\n",
      "Liver  val Dataset is created\n",
      "Liver  test Dataset is created\n"
     ]
    },
    {
     "name": "stderr",
     "output_type": "stream",
     "text": [
      "/u/home/koksal/.conda/envs/caghan4/lib/python3.9/site-packages/torch_geometric/deprecation.py:12: UserWarning: 'data.DataLoader' is deprecated, use 'loader.DataLoader' instead\n",
      "  warnings.warn(out)\n"
     ]
    }
   ],
   "source": [
    "liver_exp_dir = '/u/home/koksal/organ-mesh-registration-and-property-prediction/models/cerulean-meadow-42'\n",
    "liver_exp_name = 'classification_organ_liver_enc_channels_512_best_testacc_0.74.pth'\n",
    "model_liver, test_loader_liver = return_data_model(liver_exp_dir,liver_exp_name, 'liver' )\n",
    "\n"
   ]
  },
  {
   "cell_type": "code",
   "execution_count": 13,
   "metadata": {},
   "outputs": [
    {
     "name": "stdout",
     "output_type": "stream",
     "text": [
      "Baseline Model is initialized\n",
      "Spleen  train Dataset is created\n",
      "Spleen  val Dataset is created\n",
      "Spleen  test Dataset is created\n"
     ]
    },
    {
     "name": "stderr",
     "output_type": "stream",
     "text": [
      "/u/home/koksal/.conda/envs/caghan4/lib/python3.9/site-packages/torch_geometric/deprecation.py:12: UserWarning: 'data.DataLoader' is deprecated, use 'loader.DataLoader' instead\n",
      "  warnings.warn(out)\n"
     ]
    }
   ],
   "source": [
    "\n",
    "spline_exp_dir = '/u/home/koksal/organ-mesh-registration-and-property-prediction/models/bright-universe-47'\n",
    "spline_exp_name = 'classification_organ_spleen_enc_channels_512_best_testacc_0.70.pth'\n",
    "model_spleen, test_loader_spleen = return_data_model(spline_exp_dir, spline_exp_name, 'spleen' )\n",
    "\n"
   ]
  },
  {
   "cell_type": "code",
   "execution_count": 7,
   "metadata": {},
   "outputs": [
    {
     "name": "stdout",
     "output_type": "stream",
     "text": [
      "Baseline Model is initialized\n",
      "Pancreas  train Dataset is created\n",
      "Pancreas  val Dataset is created\n",
      "Pancreas  test Dataset is created\n"
     ]
    },
    {
     "name": "stderr",
     "output_type": "stream",
     "text": [
      "/u/home/koksal/.conda/envs/caghan4/lib/python3.9/site-packages/torch_geometric/deprecation.py:12: UserWarning: 'data.DataLoader' is deprecated, use 'loader.DataLoader' instead\n",
      "  warnings.warn(out)\n"
     ]
    }
   ],
   "source": [
    "pancreas_exp_dir = \"/u/home/koksal/organ-mesh-registration-and-property-prediction/models/feasible-bush-46\"\n",
    "pancreas_exp_name = \"classification_organ_pancreas_enc_channels_512_best_testacc_0.78.pth\"\n",
    "model_pancreas, test_loader_pancreas = return_data_model(pancreas_exp_dir, pancreas_exp_name, 'pancreas')"
   ]
  },
  {
   "cell_type": "code",
   "execution_count": 8,
   "metadata": {},
   "outputs": [
    {
     "name": "stdout",
     "output_type": "stream",
     "text": [
      "Baseline Model is initialized\n",
      "Left_kidney  train Dataset is created\n",
      "Left_kidney  val Dataset is created\n",
      "Left_kidney  test Dataset is created\n"
     ]
    },
    {
     "name": "stderr",
     "output_type": "stream",
     "text": [
      "/u/home/koksal/.conda/envs/caghan4/lib/python3.9/site-packages/torch_geometric/deprecation.py:12: UserWarning: 'data.DataLoader' is deprecated, use 'loader.DataLoader' instead\n",
      "  warnings.warn(out)\n"
     ]
    }
   ],
   "source": [
    "left_kidney_exp_dir = \"/u/home/koksal/organ-mesh-registration-and-property-prediction/models/vocal-dragon-44\"\n",
    "left_kidney_exp_name = \"classification_organ_left_kidney_enc_channels_512_best_testacc_0.75.pth\"\n",
    "\n",
    "model_left_kidney, test_loader_left_kidney = return_data_model(left_kidney_exp_dir, left_kidney_exp_name, 'left_kidney')"
   ]
  },
  {
   "cell_type": "code",
   "execution_count": 9,
   "metadata": {},
   "outputs": [
    {
     "name": "stdout",
     "output_type": "stream",
     "text": [
      "Baseline Model is initialized\n",
      "Right_kidney  train Dataset is created\n",
      "Right_kidney  val Dataset is created\n",
      "Right_kidney  test Dataset is created\n"
     ]
    },
    {
     "name": "stderr",
     "output_type": "stream",
     "text": [
      "/u/home/koksal/.conda/envs/caghan4/lib/python3.9/site-packages/torch_geometric/deprecation.py:12: UserWarning: 'data.DataLoader' is deprecated, use 'loader.DataLoader' instead\n",
      "  warnings.warn(out)\n"
     ]
    }
   ],
   "source": [
    "right_kidney_exp_dir = '/u/home/koksal/organ-mesh-registration-and-property-prediction/models/ethereal-music-45'\n",
    "right_kidney_exp_name = \"classification_organ_right_kidney_enc_channels_512_best_testacc_0.69.pth\"\n",
    "\n",
    "model_right_kidney, test_loader_right_kidney = return_data_model(right_kidney_exp_dir, right_kidney_exp_name, 'right_kidney')"
   ]
  },
  {
   "cell_type": "code",
   "execution_count": 15,
   "metadata": {},
   "outputs": [
    {
     "data": {
      "text/plain": [
       "GNN(\n",
       "  (input_encoder): Sequential(\n",
       "    (0): Linear(in_features=3, out_features=128, bias=True)\n",
       "    (1): Identity()\n",
       "  )\n",
       "  (layers): ModuleList(\n",
       "    (0): GCNConv(128, 512)\n",
       "    (1): ReLU()\n",
       "    (2): LayerNorm(512, mode=graph)\n",
       "    (3): GCNConv(512, 512)\n",
       "    (4): ReLU()\n",
       "    (5): LayerNorm(512, mode=graph)\n",
       "    (6): GCNConv(512, 512)\n",
       "    (7): ReLU()\n",
       "    (8): LayerNorm(512, mode=graph)\n",
       "  )\n",
       "  (pred_layer): Linear(512, 1, bias=True)\n",
       ")"
      ]
     },
     "execution_count": 15,
     "metadata": {},
     "output_type": "execute_result"
    }
   ],
   "source": []
  },
  {
   "cell_type": "code",
   "execution_count": 16,
   "metadata": {},
   "outputs": [
    {
     "data": {
      "text/plain": [
       "tensor([[-2.9546]], device='cuda:1', grad_fn=<AddmmBackward0>)"
      ]
     },
     "execution_count": 16,
     "metadata": {},
     "output_type": "execute_result"
    }
   ],
   "source": [
    "model_pancreas(test_loader_left_kidney[0].to(device))"
   ]
  },
  {
   "cell_type": "code",
   "execution_count": 17,
   "metadata": {},
   "outputs": [
    {
     "data": {
      "text/plain": [
       "tensor([1])"
      ]
     },
     "execution_count": 17,
     "metadata": {},
     "output_type": "execute_result"
    }
   ],
   "source": [
    "torch.tensor(test_loader_left_kidney[0].y).unsqueeze(0)#.shape"
   ]
  },
  {
   "cell_type": "code",
   "execution_count": 20,
   "metadata": {},
   "outputs": [
    {
     "data": {
      "text/plain": [
       "GNN(\n",
       "  (input_encoder): Sequential(\n",
       "    (0): Linear(in_features=3, out_features=128, bias=True)\n",
       "    (1): Identity()\n",
       "  )\n",
       "  (layers): ModuleList(\n",
       "    (0): GCNConv(128, 512)\n",
       "    (1): ReLU()\n",
       "    (2): LayerNorm(512, mode=graph)\n",
       "    (3): GCNConv(512, 512)\n",
       "    (4): ReLU()\n",
       "    (5): LayerNorm(512, mode=graph)\n",
       "    (6): GCNConv(512, 512)\n",
       "    (7): ReLU()\n",
       "    (8): LayerNorm(512, mode=graph)\n",
       "  )\n",
       "  (pred_layer): Linear(512, 1, bias=True)\n",
       ")"
      ]
     },
     "execution_count": 20,
     "metadata": {},
     "output_type": "execute_result"
    }
   ],
   "source": [
    "model_pancreas.to(device).eval()\n",
    "model_right_kidney.to(device).eval()\n",
    "model_left_kidney.to(device).eval()\n",
    "model_liver.to(device).eval()\n",
    "model_spleen.to(device).eval()\n"
   ]
  },
  {
   "cell_type": "code",
   "execution_count": 26,
   "metadata": {},
   "outputs": [
    {
     "data": {
      "text/plain": [
       "300"
      ]
     },
     "execution_count": 26,
     "metadata": {},
     "output_type": "execute_result"
    }
   ],
   "source": [
    "len(test_loader_pancreas)"
   ]
  },
  {
   "cell_type": "code",
   "execution_count": 27,
   "metadata": {},
   "outputs": [],
   "source": [
    "predictions_all= []\n",
    "for i in range(len(test_loader_pancreas)):\n",
    "    with torch.no_grad():\n",
    "\n",
    "        sample_prediction = []\n",
    "        #Pancreas Prediction\n",
    "        batch_pancreas = test_loader_pancreas[i]\n",
    "        prediction_pancreas = model_pancreas(batch_pancreas.to(device))\n",
    "        gt_label_pancreas = torch.tensor(batch_pancreas.y,dtype=torch.int8).unsqueeze(0).to(device)\n",
    "        predicted_seg_labels = torch.nn.Sigmoid()(prediction_pancreas)\n",
    "        #predicted_seg_labels[predicted_seg_labels>0.5] = 1\n",
    "        #predicted_seg_labels[predicted_seg_labels<0.5] = 0\n",
    "        predicted_seg_label_pancreas = torch.round(predicted_seg_labels)\n",
    "\n",
    "        sample_prediction.append(predicted_seg_label_pancreas)\n",
    "\n",
    "\n",
    "        #Left Kidney Prediction\n",
    "        batch_left_kidney = test_loader_left_kidney[i]\n",
    "        prediction_left_kidney = model_left_kidney(batch_left_kidney.to(device))\n",
    "        gt_label_left_kidney = torch.tensor(batch_left_kidney.y, dtype=torch.int8).unsqueeze(0).to(device)\n",
    "        predicted_seg_labels = torch.nn.Sigmoid()(prediction_left_kidney)\n",
    "        predicted_seg_label_left_kidney = torch.round(predicted_seg_labels)\n",
    "\n",
    "        sample_prediction.append(predicted_seg_label_left_kidney)\n",
    "\n",
    "        #Right Kidney Prediction\n",
    "        batch_right_kidney = test_loader_right_kidney[i]\n",
    "        prediction_right_kidney = model_right_kidney(batch_right_kidney.to(device))\n",
    "        gt_label_right_kidney = torch.tensor(batch_right_kidney.y, dtype=torch.int8).unsqueeze(0).to(device)\n",
    "        predicted_seg_labels = torch.nn.Sigmoid()(prediction_right_kidney)\n",
    "        predicted_seg_label_right_kidney = torch.round(predicted_seg_labels)\n",
    "\n",
    "        sample_prediction.append(predicted_seg_label_right_kidney)\n",
    "\n",
    "        #Liver Prediction\n",
    "        batch_liver = test_loader_liver[i]\n",
    "        prediction_liver = model_liver(batch_liver.to(device)).to(device)\n",
    "        gt_label_liver = torch.tensor(batch_liver.y, dtype=torch.int8).unsqueeze(0).to(device)\n",
    "        predicted_seg_labels = torch.nn.Sigmoid()(prediction_liver)\n",
    "        predicted_seg_label_liver = torch.round(predicted_seg_labels)\n",
    "\n",
    "        sample_prediction.append(predicted_seg_label_liver)\n",
    "\n",
    "        #Spleen Prediction\n",
    "        batch_spleen = test_loader_spleen[i]\n",
    "        prediction_spleen = model_spleen(batch_spleen.to(device)).to(device)\n",
    "        gt_label_spleen = torch.tensor(batch_spleen.y, dtype=torch.int8).unsqueeze(0).to(device)\n",
    "        predicted_seg_labels = torch.nn.Sigmoid()(prediction_spleen)\n",
    "        predicted_seg_label_spleen = torch.round(predicted_seg_labels)\n",
    "\n",
    "        sample_prediction.append(predicted_seg_label_spleen)\n",
    "\n",
    "\n",
    "\n",
    "\n",
    "    predictions_all.append(sample_prediction)\n",
    "\n",
    "\n",
    "\n",
    "\n"
   ]
  },
  {
   "cell_type": "code",
   "execution_count": 42,
   "metadata": {},
   "outputs": [],
   "source": [
    "majority_predictions = []\n",
    "# Majority Voting \n",
    "for sample_prediction in predictions_all:\n",
    "    # Find most occuring label\n",
    "    pred = torch.mode(torch.cat(sample_prediction).squeeze(1)).values.item()\n",
    "    majority_predictions.append(pred)\n"
   ]
  },
  {
   "cell_type": "code",
   "execution_count": 46,
   "metadata": {},
   "outputs": [],
   "source": [
    "correct = 0\n",
    "for i,item in enumerate(test_loader_liver):\n",
    "    gt_label = item.y\n",
    "\n",
    "    if gt_label == majority_predictions[i]:\n",
    "        correct +=1 \n",
    "\n",
    "\n",
    "    "
   ]
  },
  {
   "cell_type": "code",
   "execution_count": 47,
   "metadata": {},
   "outputs": [
    {
     "data": {
      "text/plain": [
       "0.7833333333333333"
      ]
     },
     "execution_count": 47,
     "metadata": {},
     "output_type": "execute_result"
    }
   ],
   "source": [
    "correct/len(test_loader_pancreas)"
   ]
  },
  {
   "cell_type": "code",
   "execution_count": null,
   "metadata": {},
   "outputs": [],
   "source": []
  }
 ],
 "metadata": {
  "kernelspec": {
   "display_name": "Python 3.9.15 ('caghan4')",
   "language": "python",
   "name": "python3"
  },
  "language_info": {
   "codemirror_mode": {
    "name": "ipython",
    "version": 3
   },
   "file_extension": ".py",
   "mimetype": "text/x-python",
   "name": "python",
   "nbconvert_exporter": "python",
   "pygments_lexer": "ipython3",
   "version": "3.9.15"
  },
  "orig_nbformat": 4,
  "vscode": {
   "interpreter": {
    "hash": "c7396ef363109521e03a1a0d63e78822cb454baa0fd8fa9ea26684fd7d4e3122"
   }
  }
 },
 "nbformat": 4,
 "nbformat_minor": 2
}
