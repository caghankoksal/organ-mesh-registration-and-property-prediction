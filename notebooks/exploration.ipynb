{
 "cells": [
  {
   "cell_type": "code",
   "execution_count": 48,
   "metadata": {},
   "outputs": [],
   "source": [
    "import os\n",
    "import pandas as pd\n",
    "import seaborn as sns\n",
    "from scipy.stats import zscore"
   ]
  },
  {
   "cell_type": "code",
   "execution_count": 3,
   "metadata": {},
   "outputs": [
    {
     "data": {
      "text/plain": [
       "id                  0.000000\n",
       "age                89.203461\n",
       "sex                 0.000000\n",
       "BMI                89.578254\n",
       "weight             89.529887\n",
       "standing_weight    89.515755\n",
       "dtype: float64"
      ]
     },
     "execution_count": 3,
     "metadata": {},
     "output_type": "execute_result"
    }
   ],
   "source": [
    "df = pd.read_csv('basic_features.csv')\n",
    "\n",
    "df_names = df.rename(columns={'eid':'id', '21003-2.0':'age', '31-0.0':'sex', '21001-2.0':'BMI', '21002-2.0':'weight', '50-2.0':'standing_weight'})\n",
    "(df_names.isnull().sum()/df_names.shape[0])*100"
   ]
  },
  {
   "cell_type": "code",
   "execution_count": 4,
   "metadata": {},
   "outputs": [
    {
     "data": {
      "text/plain": [
       "10.421746339152605"
      ]
     },
     "execution_count": 4,
     "metadata": {},
     "output_type": "execute_result"
    }
   ],
   "source": [
    "df_no_nans = df_names.dropna(axis=0, how='any')\n",
    "(df_no_nans.shape[0]/df_names.shape[0])*100"
   ]
  },
  {
   "cell_type": "code",
   "execution_count": 5,
   "metadata": {},
   "outputs": [
    {
     "data": {
      "text/html": [
       "<div>\n",
       "<style scoped>\n",
       "    .dataframe tbody tr th:only-of-type {\n",
       "        vertical-align: middle;\n",
       "    }\n",
       "\n",
       "    .dataframe tbody tr th {\n",
       "        vertical-align: top;\n",
       "    }\n",
       "\n",
       "    .dataframe thead th {\n",
       "        text-align: right;\n",
       "    }\n",
       "</style>\n",
       "<table border=\"1\" class=\"dataframe\">\n",
       "  <thead>\n",
       "    <tr style=\"text-align: right;\">\n",
       "      <th></th>\n",
       "      <th>id</th>\n",
       "      <th>age</th>\n",
       "      <th>sex</th>\n",
       "      <th>BMI</th>\n",
       "      <th>weight</th>\n",
       "      <th>standing_weight</th>\n",
       "    </tr>\n",
       "  </thead>\n",
       "  <tbody>\n",
       "    <tr>\n",
       "      <th>6</th>\n",
       "      <td>1000071</td>\n",
       "      <td>69.0</td>\n",
       "      <td>0</td>\n",
       "      <td>30.8012</td>\n",
       "      <td>74.0</td>\n",
       "      <td>155.0</td>\n",
       "    </tr>\n",
       "    <tr>\n",
       "      <th>9</th>\n",
       "      <td>1000109</td>\n",
       "      <td>75.0</td>\n",
       "      <td>0</td>\n",
       "      <td>26.5036</td>\n",
       "      <td>68.7</td>\n",
       "      <td>161.0</td>\n",
       "    </tr>\n",
       "    <tr>\n",
       "      <th>11</th>\n",
       "      <td>1000125</td>\n",
       "      <td>65.0</td>\n",
       "      <td>1</td>\n",
       "      <td>23.6488</td>\n",
       "      <td>61.3</td>\n",
       "      <td>161.0</td>\n",
       "    </tr>\n",
       "    <tr>\n",
       "      <th>17</th>\n",
       "      <td>1000180</td>\n",
       "      <td>58.0</td>\n",
       "      <td>1</td>\n",
       "      <td>32.6204</td>\n",
       "      <td>99.9</td>\n",
       "      <td>175.0</td>\n",
       "    </tr>\n",
       "    <tr>\n",
       "      <th>18</th>\n",
       "      <td>1000191</td>\n",
       "      <td>72.0</td>\n",
       "      <td>1</td>\n",
       "      <td>24.6337</td>\n",
       "      <td>83.4</td>\n",
       "      <td>184.0</td>\n",
       "    </tr>\n",
       "    <tr>\n",
       "      <th>...</th>\n",
       "      <td>...</td>\n",
       "      <td>...</td>\n",
       "      <td>...</td>\n",
       "      <td>...</td>\n",
       "      <td>...</td>\n",
       "      <td>...</td>\n",
       "    </tr>\n",
       "    <tr>\n",
       "      <th>502334</th>\n",
       "      <td>6023367</td>\n",
       "      <td>58.0</td>\n",
       "      <td>1</td>\n",
       "      <td>35.2653</td>\n",
       "      <td>118.1</td>\n",
       "      <td>183.0</td>\n",
       "    </tr>\n",
       "    <tr>\n",
       "      <th>502339</th>\n",
       "      <td>6023419</td>\n",
       "      <td>66.0</td>\n",
       "      <td>1</td>\n",
       "      <td>23.9048</td>\n",
       "      <td>69.9</td>\n",
       "      <td>171.0</td>\n",
       "    </tr>\n",
       "    <tr>\n",
       "      <th>502368</th>\n",
       "      <td>6023708</td>\n",
       "      <td>56.0</td>\n",
       "      <td>0</td>\n",
       "      <td>21.5288</td>\n",
       "      <td>57.2</td>\n",
       "      <td>163.0</td>\n",
       "    </tr>\n",
       "    <tr>\n",
       "      <th>502376</th>\n",
       "      <td>6023786</td>\n",
       "      <td>57.0</td>\n",
       "      <td>0</td>\n",
       "      <td>22.7595</td>\n",
       "      <td>56.1</td>\n",
       "      <td>157.0</td>\n",
       "    </tr>\n",
       "    <tr>\n",
       "      <th>502393</th>\n",
       "      <td>6023955</td>\n",
       "      <td>74.0</td>\n",
       "      <td>1</td>\n",
       "      <td>31.4815</td>\n",
       "      <td>102.0</td>\n",
       "      <td>180.0</td>\n",
       "    </tr>\n",
       "  </tbody>\n",
       "</table>\n",
       "<p>52360 rows × 6 columns</p>\n",
       "</div>"
      ],
      "text/plain": [
       "             id   age  sex      BMI  weight  standing_weight\n",
       "6       1000071  69.0    0  30.8012    74.0            155.0\n",
       "9       1000109  75.0    0  26.5036    68.7            161.0\n",
       "11      1000125  65.0    1  23.6488    61.3            161.0\n",
       "17      1000180  58.0    1  32.6204    99.9            175.0\n",
       "18      1000191  72.0    1  24.6337    83.4            184.0\n",
       "...         ...   ...  ...      ...     ...              ...\n",
       "502334  6023367  58.0    1  35.2653   118.1            183.0\n",
       "502339  6023419  66.0    1  23.9048    69.9            171.0\n",
       "502368  6023708  56.0    0  21.5288    57.2            163.0\n",
       "502376  6023786  57.0    0  22.7595    56.1            157.0\n",
       "502393  6023955  74.0    1  31.4815   102.0            180.0\n",
       "\n",
       "[52360 rows x 6 columns]"
      ]
     },
     "execution_count": 5,
     "metadata": {},
     "output_type": "execute_result"
    }
   ],
   "source": [
    "df_no_nans"
   ]
  },
  {
   "cell_type": "code",
   "execution_count": 6,
   "metadata": {},
   "outputs": [],
   "source": [
    "df_females = df_no_nans.query(\"sex == 0\")\n",
    "df_males = df_no_nans.query(\"sex == 1\")"
   ]
  },
  {
   "cell_type": "code",
   "execution_count": 7,
   "metadata": {},
   "outputs": [
    {
     "data": {
      "text/html": [
       "<div>\n",
       "<style scoped>\n",
       "    .dataframe tbody tr th:only-of-type {\n",
       "        vertical-align: middle;\n",
       "    }\n",
       "\n",
       "    .dataframe tbody tr th {\n",
       "        vertical-align: top;\n",
       "    }\n",
       "\n",
       "    .dataframe thead th {\n",
       "        text-align: right;\n",
       "    }\n",
       "</style>\n",
       "<table border=\"1\" class=\"dataframe\">\n",
       "  <thead>\n",
       "    <tr style=\"text-align: right;\">\n",
       "      <th></th>\n",
       "      <th>age</th>\n",
       "      <th>BMI</th>\n",
       "      <th>weight</th>\n",
       "      <th>standing_weight</th>\n",
       "    </tr>\n",
       "  </thead>\n",
       "  <tbody>\n",
       "    <tr>\n",
       "      <th>count</th>\n",
       "      <td>27015.000000</td>\n",
       "      <td>27015.000000</td>\n",
       "      <td>27015.000000</td>\n",
       "      <td>27015.000000</td>\n",
       "    </tr>\n",
       "    <tr>\n",
       "      <th>mean</th>\n",
       "      <td>63.827873</td>\n",
       "      <td>26.201237</td>\n",
       "      <td>69.272569</td>\n",
       "      <td>162.605715</td>\n",
       "    </tr>\n",
       "    <tr>\n",
       "      <th>std</th>\n",
       "      <td>7.668580</td>\n",
       "      <td>4.866072</td>\n",
       "      <td>13.393169</td>\n",
       "      <td>6.255367</td>\n",
       "    </tr>\n",
       "    <tr>\n",
       "      <th>min</th>\n",
       "      <td>45.000000</td>\n",
       "      <td>13.388000</td>\n",
       "      <td>33.000000</td>\n",
       "      <td>134.000000</td>\n",
       "    </tr>\n",
       "    <tr>\n",
       "      <th>25%</th>\n",
       "      <td>58.000000</td>\n",
       "      <td>22.786750</td>\n",
       "      <td>60.000000</td>\n",
       "      <td>158.000000</td>\n",
       "    </tr>\n",
       "    <tr>\n",
       "      <th>50%</th>\n",
       "      <td>64.000000</td>\n",
       "      <td>25.349800</td>\n",
       "      <td>67.100000</td>\n",
       "      <td>162.600000</td>\n",
       "    </tr>\n",
       "    <tr>\n",
       "      <th>75%</th>\n",
       "      <td>70.000000</td>\n",
       "      <td>28.654200</td>\n",
       "      <td>76.100000</td>\n",
       "      <td>167.000000</td>\n",
       "    </tr>\n",
       "    <tr>\n",
       "      <th>max</th>\n",
       "      <td>83.000000</td>\n",
       "      <td>69.630000</td>\n",
       "      <td>185.000000</td>\n",
       "      <td>195.000000</td>\n",
       "    </tr>\n",
       "  </tbody>\n",
       "</table>\n",
       "</div>"
      ],
      "text/plain": [
       "                age           BMI        weight  standing_weight\n",
       "count  27015.000000  27015.000000  27015.000000     27015.000000\n",
       "mean      63.827873     26.201237     69.272569       162.605715\n",
       "std        7.668580      4.866072     13.393169         6.255367\n",
       "min       45.000000     13.388000     33.000000       134.000000\n",
       "25%       58.000000     22.786750     60.000000       158.000000\n",
       "50%       64.000000     25.349800     67.100000       162.600000\n",
       "75%       70.000000     28.654200     76.100000       167.000000\n",
       "max       83.000000     69.630000    185.000000       195.000000"
      ]
     },
     "execution_count": 7,
     "metadata": {},
     "output_type": "execute_result"
    }
   ],
   "source": [
    "df_females[['age', 'BMI', 'weight', 'standing_weight']].describe()"
   ]
  },
  {
   "cell_type": "code",
   "execution_count": 8,
   "metadata": {},
   "outputs": [
    {
     "data": {
      "text/html": [
       "<div>\n",
       "<style scoped>\n",
       "    .dataframe tbody tr th:only-of-type {\n",
       "        vertical-align: middle;\n",
       "    }\n",
       "\n",
       "    .dataframe tbody tr th {\n",
       "        vertical-align: top;\n",
       "    }\n",
       "\n",
       "    .dataframe thead th {\n",
       "        text-align: right;\n",
       "    }\n",
       "</style>\n",
       "<table border=\"1\" class=\"dataframe\">\n",
       "  <thead>\n",
       "    <tr style=\"text-align: right;\">\n",
       "      <th></th>\n",
       "      <th>age</th>\n",
       "      <th>BMI</th>\n",
       "      <th>weight</th>\n",
       "      <th>standing_weight</th>\n",
       "    </tr>\n",
       "  </thead>\n",
       "  <tbody>\n",
       "    <tr>\n",
       "      <th>count</th>\n",
       "      <td>25345.000000</td>\n",
       "      <td>25345.000000</td>\n",
       "      <td>25345.000000</td>\n",
       "      <td>25345.000000</td>\n",
       "    </tr>\n",
       "    <tr>\n",
       "      <th>mean</th>\n",
       "      <td>65.221503</td>\n",
       "      <td>27.088163</td>\n",
       "      <td>83.906060</td>\n",
       "      <td>175.922513</td>\n",
       "    </tr>\n",
       "    <tr>\n",
       "      <th>std</th>\n",
       "      <td>7.881898</td>\n",
       "      <td>4.006256</td>\n",
       "      <td>13.668653</td>\n",
       "      <td>6.635290</td>\n",
       "    </tr>\n",
       "    <tr>\n",
       "      <th>min</th>\n",
       "      <td>44.000000</td>\n",
       "      <td>14.346200</td>\n",
       "      <td>46.000000</td>\n",
       "      <td>133.000000</td>\n",
       "    </tr>\n",
       "    <tr>\n",
       "      <th>25%</th>\n",
       "      <td>59.000000</td>\n",
       "      <td>24.373700</td>\n",
       "      <td>74.500000</td>\n",
       "      <td>171.500000</td>\n",
       "    </tr>\n",
       "    <tr>\n",
       "      <th>50%</th>\n",
       "      <td>66.000000</td>\n",
       "      <td>26.567500</td>\n",
       "      <td>82.200000</td>\n",
       "      <td>176.000000</td>\n",
       "    </tr>\n",
       "    <tr>\n",
       "      <th>75%</th>\n",
       "      <td>71.000000</td>\n",
       "      <td>29.205600</td>\n",
       "      <td>91.400000</td>\n",
       "      <td>180.000000</td>\n",
       "    </tr>\n",
       "    <tr>\n",
       "      <th>max</th>\n",
       "      <td>83.000000</td>\n",
       "      <td>58.044900</td>\n",
       "      <td>179.800000</td>\n",
       "      <td>204.000000</td>\n",
       "    </tr>\n",
       "  </tbody>\n",
       "</table>\n",
       "</div>"
      ],
      "text/plain": [
       "                age           BMI        weight  standing_weight\n",
       "count  25345.000000  25345.000000  25345.000000     25345.000000\n",
       "mean      65.221503     27.088163     83.906060       175.922513\n",
       "std        7.881898      4.006256     13.668653         6.635290\n",
       "min       44.000000     14.346200     46.000000       133.000000\n",
       "25%       59.000000     24.373700     74.500000       171.500000\n",
       "50%       66.000000     26.567500     82.200000       176.000000\n",
       "75%       71.000000     29.205600     91.400000       180.000000\n",
       "max       83.000000     58.044900    179.800000       204.000000"
      ]
     },
     "execution_count": 8,
     "metadata": {},
     "output_type": "execute_result"
    }
   ],
   "source": [
    "df_males[['age', 'BMI', 'weight', 'standing_weight']].describe()"
   ]
  },
  {
   "cell_type": "code",
   "execution_count": 41,
   "metadata": {},
   "outputs": [
    {
     "data": {
      "text/plain": [
       "<AxesSubplot:>"
      ]
     },
     "execution_count": 41,
     "metadata": {},
     "output_type": "execute_result"
    },
    {
     "data": {
      "image/png": "[encoded data removed]",
      "text/plain": [
       "<Figure size 432x288 with 1 Axes>"
      ]
     },
     "metadata": {
      "needs_background": "light"
     },
     "output_type": "display_data"
    }
   ],
   "source": [
    "sns.boxplot(data=df_females[['age', 'BMI', 'weight', 'standing_weight']], orient=\"h\")"
   ]
  },
  {
   "cell_type": "code",
   "execution_count": 42,
   "metadata": {},
   "outputs": [
    {
     "data": {
      "text/plain": [
       "<AxesSubplot:>"
      ]
     },
     "execution_count": 42,
     "metadata": {},
     "output_type": "execute_result"
    },
    {
     "data": {
      "image/png": "[encoded data removed]",
      "text/plain": [
       "<Figure size 432x288 with 1 Axes>"
      ]
     },
     "metadata": {
      "needs_background": "light"
     },
     "output_type": "display_data"
    }
   ],
   "source": [
    "sns.boxplot(data=df_males[['age', 'BMI', 'weight', 'standing_weight']], orient=\"h\")"
   ]
  },
  {
   "cell_type": "code",
   "execution_count": null,
   "metadata": {},
   "outputs": [],
   "source": []
  }
 ],
 "metadata": {
  "kernelspec": {
   "display_name": "Python 3.9.13 ('mesh_gnn_organ')",
   "language": "python",
   "name": "python3"
  },
  "language_info": {
   "codemirror_mode": {
    "name": "ipython",
    "version": 3
   },
   "file_extension": ".py",
   "mimetype": "text/x-python",
   "name": "python",
   "nbconvert_exporter": "python",
   "pygments_lexer": "ipython3",
   "version": "3.9.13"
  },
  "orig_nbformat": 4,
  "vscode": {
   "interpreter": {
    "hash": "201efbd1f734c4e84f55dca2660e1dd3ff064c277d7ab25fa47c2315554ba260"
   }
  }
 },
 "nbformat": 4,
 "nbformat_minor": 2
}
